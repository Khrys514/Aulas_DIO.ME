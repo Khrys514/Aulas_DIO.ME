{
  "nbformat": 4,
  "nbformat_minor": 0,
  "metadata": {
    "colab": {
      "provenance": [],
      "authorship_tag": "ABX9TyN4LM5m/eQexD/oxxvCkT32",
      "include_colab_link": true
    },
    "kernelspec": {
      "name": "python3",
      "display_name": "Python 3"
    },
    "language_info": {
      "name": "python"
    }
  },
  "cells": [
    {
      "cell_type": "markdown",
      "metadata": {
        "id": "view-in-github",
        "colab_type": "text"
      },
      "source": [
        "<a href=\"https://colab.research.google.com/github/Khrys514/Aulas_DIO.ME/blob/main/Aula_Dio_Teste.ipynb\" target=\"_parent\"><img src=\"https://colab.research.google.com/assets/colab-badge.svg\" alt=\"Open In Colab\"/></a>"
      ]
    },
    {
      "cell_type": "code",
      "execution_count": 5,
      "metadata": {
        "colab": {
          "base_uri": "https://localhost:8080/"
        },
        "id": "hVOJL3b8K1kc",
        "outputId": "0525d857-6846-4d4e-934e-dab05c93e34f"
      },
      "outputs": [
        {
          "output_type": "stream",
          "name": "stdout",
          "text": [
            "Nota 1° Bimestre: 11\n",
            "Nota digitada errada, tente novamente: 11\n",
            "Nota 2° Bimestre: 5\n",
            "Nota 3° Bimestre: 8\n",
            "Nota 4° Bimestre: 6\n",
            "A Média é: 7.5\n",
            "O Aluno está aprovado por média.\n"
          ]
        }
      ],
      "source": [
        "# Simples Calculadora de Média de nota.\n",
        "nota1 = int(input('Nota 1° Bimestre: '))\n",
        "if nota1 > 10:\n",
        "    nota1 = int(input('Nota digitada errada, tente novamente: '))\n",
        "nota2 = int(input('Nota 2° Bimestre: '))\n",
        "if nota2 > 10:\n",
        "    nota2 = int(input('Nota digitada errada, tente novamente: '))\n",
        "nota3 = int(input('Nota 3° Bimestre: '))\n",
        "if nota3 > 10:\n",
        "    nota3 = int(input('Nota digitada errada, tente novamente: '))\n",
        "nota4 = int(input('Nota 4° Bimestre: '))\n",
        "if nota4 > 10:\n",
        "    nota4 = int(input('Nota digitada errada, tente novamente: '))\n",
        "media = (nota1 + nota2 + nota3 + nota4) / 4\n",
        "print('A Média é: {}'.format(media))\n",
        "if media < 7.0:\n",
        "    print('O Aluno está com a média baixa.')\n",
        "else:\n",
        "    print('O Aluno está aprovado por média.')"
      ]
    }
  ]
}